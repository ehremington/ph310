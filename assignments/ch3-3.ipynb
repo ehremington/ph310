{
 "cells": [
  {
   "cell_type": "markdown",
   "id": "cddbe4d4-7d18-40a6-bc15-a5a21363df16",
   "metadata": {},
   "source": [
    "# Chapter 3 - Problem Set 3\n",
    "\n",
    "## Problem 1\n",
    "\n",
    "r<sub>1</sub> = (1,1,0)"
   ]
  }
 ],
 "metadata": {
  "kernelspec": {
   "display_name": "Python 3",
   "language": "python",
   "name": "python3"
  },
  "language_info": {
   "codemirror_mode": {
    "name": "ipython",
    "version": 3
   },
   "file_extension": ".py",
   "mimetype": "text/x-python",
   "name": "python",
   "nbconvert_exporter": "python",
   "pygments_lexer": "ipython3",
   "version": "3.7.9"
  }
 },
 "nbformat": 4,
 "nbformat_minor": 5
}
