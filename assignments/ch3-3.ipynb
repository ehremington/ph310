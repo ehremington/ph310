{
 "cells": [
  {
   "cell_type": "markdown",
   "id": "cddbe4d4-7d18-40a6-bc15-a5a21363df16",
   "metadata": {},
   "source": [
    "# Chapter 3 - Problem Set 3\n",
    "\n",
    "## Preface to Problem 1 and 2\n",
    "\n",
    "When we derived the rocket equation, we made an analogy to the way we solved the backpack full of baseballs problem by saying out change in momentum was equal to the change in momentum of a baseball:\n",
    "\n",
    "$$ dp_{me} = dp_{baseball} $$\n",
    "\n",
    "which we rearranged into:\n",
    "\n",
    "$$ dv_{me} = \\frac{m_{baseball} \\cdot v_{throw}}{m_{me}} $$\n",
    "\n",
    "and then by analogy to a rocket blasting off we changed that equation to this:\n",
    "\n",
    "$$ dv = \\frac{dm\\cdot v_{exhaust}}{m} $$\n",
    "\n",
    "and solved this using separation of variables to get the rocket equation\n",
    "\n",
    "$$ v(t) = v_{ex} \\ln (\\frac{m(t)}{m_{max}}) + v_0 $$\n",
    "\n",
    "But we blew right past what this looked like as a Newton's 2nd law equation. Go back to the third equation and divide both sides by *dt*:\n",
    "\n",
    "$$ \\frac{dv}{dt} = \\frac{dm\\cdot v_{ex}}{dt m} $$\n",
    "\n",
    "rearranging slightly gives:\n",
    "\n",
    "$$ m\\frac{dv}{dt} = \\frac{dm}{dt}v_{ex} $$\n",
    "\n",
    "which is \n",
    "\n",
    "$$ m \\dot{v} = \\dot{m} v_{ex} $$\n",
    "\n",
    "and now we have something that looks like Newton's 2nd Law differential equation that we are all familar with. The solution to this equation will give the velocity as a function of time. Remember that *m* on the left side is variable in time. This equation is known as the **thrust equation** and the **thrust** of a rocket can be calculated as \\\\(\\dot{m} \\cdot v_{ex}\\\\).  \n",
    "\n",
    "So the force on the rocket is a product of mass loss rate and exhaust velocity. But this is ignoring all other forces on the rocket.\n",
    "\n",
    "## Problem 1\n",
    "\n",
    "This is problem 3.7 from our textbook, but I'll rewrite it here. \n",
    "\n",
    "\"The first couple of minutes of the launch of a space shuttle can be described very roughly as follows: The initial mass is 2 x 10^6 kg, the final mass (after 2 minutes) is about 1 x 10^6kg, the average exhaust speed v_ex is about 3000 m/s, and the initial velocity is, of course, zero. If all this were taking place in outer space, with negligible gravity, what would be the shuttle's speed at the end of this stage? What is the thrust during the same period and how does it compare with the initial total weight of the shuttle (on earth)?\"\n",
    "\n",
    "## Problem 2\n",
    "\n",
    "Now lets put the rocket on earth blasting off upwards subject to a force of gravity. We will model this (for now) as a constant gravitational force (**-mg**) and we will ignore air resistance (for now) and the fact that the air resistance will change as a function of height since the air gets thinner (for now). Putting this gravitation force in the thrust equation above gives:\n",
    "\n",
    "$$ m \\dot{v} = \\dot{m} v_{ex} - m g $$\n",
    "\n",
    "Assume the rocket expells mass at a constant rate so \\\\(\\dot{m} = -k\\\\). What does that mean for the expression of m as a function of time. With this expression substituted in the above equation, solve the differential equation for the velocity of the rocket over time. Using the data from the previous problem find the space shuttle's speed two minutes into flight and compare this to that answer.  "
   ]
  },
  {
   "cell_type": "code",
   "execution_count": null,
   "id": "841bce51-1ab3-446b-afb6-dea0b229d0b1",
   "metadata": {},
   "outputs": [],
   "source": []
  }
 ],
 "metadata": {
  "kernelspec": {
   "display_name": "Python 3",
   "language": "python",
   "name": "python3"
  },
  "language_info": {
   "codemirror_mode": {
    "name": "ipython",
    "version": 3
   },
   "file_extension": ".py",
   "mimetype": "text/x-python",
   "name": "python",
   "nbconvert_exporter": "python",
   "pygments_lexer": "ipython3",
   "version": "3.7.9"
  }
 },
 "nbformat": 4,
 "nbformat_minor": 5
}
