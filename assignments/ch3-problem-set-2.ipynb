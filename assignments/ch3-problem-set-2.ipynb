{
 "cells": [
  {
   "cell_type": "markdown",
   "id": "19fd7f0f-5a5d-4d19-b6ea-dae78dc1a01c",
   "metadata": {},
   "source": [
    "# Chapter 3 - Problem Set 2\n",
    "\n",
    "## Problem 1\n",
    "In class, I made a mistake that made me unable to resolve the difference of when we plotted velocity vs time in Excel, and using the natural log function that we developed in class. What was my mistake? Produce the correct plot of velocity as a function of time in Mathematica. (Get Mathematica working if you haven't already.)\n",
    "\n",
    "(Hint: I have slyly fixed this in the notes, but see if you can spot where I was wrong.\n",
    "\n",
    "## Problem 2 \n",
    "Suppose I am already going 10 m/s on frictionless ice and I want to stop, and all I have is a backpack full of baseballs and my perfect balance and agility. How many baseballs would I need to bring myself to a stop?"
   ]
  },
  {
   "cell_type": "code",
   "execution_count": null,
   "id": "31f925c1-c385-4eee-8463-cd8832a87fb3",
   "metadata": {},
   "outputs": [],
   "source": []
  }
 ],
 "metadata": {
  "kernelspec": {
   "display_name": "Python 3",
   "language": "python",
   "name": "python3"
  },
  "language_info": {
   "codemirror_mode": {
    "name": "ipython",
    "version": 3
   },
   "file_extension": ".py",
   "mimetype": "text/x-python",
   "name": "python",
   "nbconvert_exporter": "python",
   "pygments_lexer": "ipython3",
   "version": "3.6.13"
  }
 },
 "nbformat": 4,
 "nbformat_minor": 5
}
