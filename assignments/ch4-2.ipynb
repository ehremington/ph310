{
 "cells": [
  {
   "cell_type": "markdown",
   "id": "4303015e-3e6b-4f6a-b6cd-f3614817c955",
   "metadata": {},
   "source": [
    "# Chapter 4 Problem Set \n",
    "\n",
    "## Problem 1\n",
    "\n",
    "Take an object at an initial height *h* on an inclined plane of angle \\\\(\\theta\\\\). If the object starts at rest, how fast is it going when it gets to the bottom of the ramp in these three scenarios. For each scenario use both conservation of energy and solving Newton's second law differential equation.\n",
    "1. frictionless inclined plane\n",
    "2. constant coefficient of friction \\\\(\\mu\\\\)\n",
    "3. 4 patches of friction that are each *l* long (Don't use Newton's on this)\n"
   ]
  },
  {
   "cell_type": "code",
   "execution_count": null,
   "id": "0a5be868-4192-4524-8a08-1e3703670bec",
   "metadata": {},
   "outputs": [],
   "source": []
  }
 ],
 "metadata": {
  "kernelspec": {
   "display_name": "Python 3",
   "language": "python",
   "name": "python3"
  },
  "language_info": {
   "codemirror_mode": {
    "name": "ipython",
    "version": 3
   },
   "file_extension": ".py",
   "mimetype": "text/x-python",
   "name": "python",
   "nbconvert_exporter": "python",
   "pygments_lexer": "ipython3",
   "version": "3.7.9"
  }
 },
 "nbformat": 4,
 "nbformat_minor": 5
}
