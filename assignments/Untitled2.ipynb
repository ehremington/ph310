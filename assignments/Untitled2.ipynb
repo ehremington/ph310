{
 "cells": [
  {
   "cell_type": "markdown",
   "id": "9f6e3a7a-7c93-41ce-ad6f-bfac1fbd9561",
   "metadata": {},
   "source": [
    "# Chapter 3 Problem Set 4\n",
    "\n"
   ]
  }
 ],
 "metadata": {
  "kernelspec": {
   "display_name": "Python 3",
   "language": "python",
   "name": "python3"
  },
  "language_info": {
   "codemirror_mode": {
    "name": "ipython",
    "version": 3
   },
   "file_extension": ".py",
   "mimetype": "text/x-python",
   "name": "python",
   "nbconvert_exporter": "python",
   "pygments_lexer": "ipython3",
   "version": "3.7.9"
  }
 },
 "nbformat": 4,
 "nbformat_minor": 5
}
