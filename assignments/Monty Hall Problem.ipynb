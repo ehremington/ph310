{
 "cells": [
  {
   "cell_type": "code",
   "execution_count": 1,
   "id": "6857d151",
   "metadata": {},
   "outputs": [],
   "source": [
    "import numpy as np"
   ]
  },
  {
   "cell_type": "code",
   "execution_count": 23,
   "id": "ed689cbe",
   "metadata": {},
   "outputs": [],
   "source": [
    "count = 0\n",
    "num_correct = 0\n",
    "num_wrong = 0\n",
    "\n",
    "while count<100000:\n",
    "    \n",
    "    correct_door = np.random.randint(1,4)\n",
    "    contestant_door = np.random.randint(1,4)\n",
    "    \n",
    "    if correct_door == contestant_door:\n",
    "        num_correct += 1\n",
    "    else: num_wrong +=1\n",
    "        \n",
    "    count += 1"
   ]
  },
  {
   "cell_type": "code",
   "execution_count": 24,
   "id": "c02a5cfb",
   "metadata": {},
   "outputs": [
    {
     "data": {
      "text/plain": [
       "33296"
      ]
     },
     "execution_count": 24,
     "metadata": {},
     "output_type": "execute_result"
    }
   ],
   "source": [
    "num_correct"
   ]
  },
  {
   "cell_type": "code",
   "execution_count": 25,
   "id": "782cdbc4",
   "metadata": {},
   "outputs": [
    {
     "data": {
      "text/plain": [
       "66704"
      ]
     },
     "execution_count": 25,
     "metadata": {},
     "output_type": "execute_result"
    }
   ],
   "source": [
    "num_wrong"
   ]
  },
  {
   "cell_type": "code",
   "execution_count": 46,
   "id": "9f020a8e",
   "metadata": {},
   "outputs": [],
   "source": [
    "count = 0\n",
    "num_correct = 0\n",
    "num_wrong = 0\n",
    "\n",
    "while count<100000:\n",
    "    \n",
    "    correct_door = np.random.permutation([1,2,3])[0]\n",
    "    contestant_door_i = np.random.randint(1,4)\n",
    "    wrong_doors = [i for i in [1,2,3] if i not in [correct_door]]\n",
    "    \n",
    "    goat_door = np.random.choice(wrong_doors)\n",
    "    \n",
    "    # Contestant does nothing\n",
    "    \n",
    "    if correct_door == contestant_door_i:\n",
    "        num_correct += 1\n",
    "    else: num_wrong +=1\n",
    "        \n",
    "    count += 1"
   ]
  },
  {
   "cell_type": "code",
   "execution_count": 75,
   "id": "be221fc9",
   "metadata": {},
   "outputs": [],
   "source": [
    "count = 0\n",
    "num_correct = 0\n",
    "num_wrong = 0\n",
    "\n",
    "while count<10000:\n",
    "    \n",
    "    doors = np.random.permutation([1,2,3])\n",
    "    correct_door = [doors[0]] # always choose the first door in the permutation as correct\n",
    "    wrong_doors = [i for i in doors if i not in correct_door] # the remaining doors are what remain in the list\n",
    "    \n",
    "    # contestant chooses a door at random\n",
    "    contestant_door_i = [np.random.randint(1,4)]\n",
    "    \n",
    "    # unchosen doors remain unchosen\n",
    "    unchosen_doors = [i for i in doors if i not in contestant_door_i]\n",
    "    \n",
    "    # monty opens a door that is wrong and unchosen\n",
    "    goat_door = [np.random.choice([i for i in wrong_doors if i not in contestant_door_i])]\n",
    "    \n",
    "    # The other door that is not chosen or revealed is\n",
    "    other_door = [i for i in unchosen_doors if i not in goat_door]\n",
    "    \n",
    "    \n",
    "    # Contestant switches\n",
    "    contestant_door_f = other_door\n",
    "    \n",
    "    if correct_door == contestant_door_f:\n",
    "        num_correct += 1\n",
    "    else: num_wrong +=1\n",
    "        \n",
    "    count += 1"
   ]
  },
  {
   "cell_type": "code",
   "execution_count": 72,
   "id": "e0c3d418",
   "metadata": {},
   "outputs": [
    {
     "data": {
      "text/plain": [
       "[2]"
      ]
     },
     "execution_count": 72,
     "metadata": {},
     "output_type": "execute_result"
    }
   ],
   "source": [
    "correct_door"
   ]
  },
  {
   "cell_type": "code",
   "execution_count": 76,
   "id": "96867cbb",
   "metadata": {},
   "outputs": [
    {
     "data": {
      "text/plain": [
       "3368"
      ]
     },
     "execution_count": 76,
     "metadata": {},
     "output_type": "execute_result"
    }
   ],
   "source": [
    "num_wrong"
   ]
  },
  {
   "cell_type": "code",
   "execution_count": 77,
   "id": "bbf8310b",
   "metadata": {},
   "outputs": [
    {
     "data": {
      "text/plain": [
       "6632"
      ]
     },
     "execution_count": 77,
     "metadata": {},
     "output_type": "execute_result"
    }
   ],
   "source": [
    "num_correct"
   ]
  },
  {
   "cell_type": "code",
   "execution_count": 54,
   "id": "2c8a872d",
   "metadata": {},
   "outputs": [
    {
     "data": {
      "text/plain": [
       "1"
      ]
     },
     "execution_count": 54,
     "metadata": {},
     "output_type": "execute_result"
    }
   ],
   "source": [
    "doors.pop(0)"
   ]
  },
  {
   "cell_type": "code",
   "execution_count": 57,
   "id": "15c33dbe",
   "metadata": {},
   "outputs": [
    {
     "ename": "SyntaxError",
     "evalue": "invalid syntax (<ipython-input-57-e36948e98e0a>, line 1)",
     "output_type": "error",
     "traceback": [
      "\u001b[0;36m  File \u001b[0;32m\"<ipython-input-57-e36948e98e0a>\"\u001b[0;36m, line \u001b[0;32m1\u001b[0m\n\u001b[0;31m    doors**\u001b[0m\n\u001b[0m           ^\u001b[0m\n\u001b[0;31mSyntaxError\u001b[0m\u001b[0;31m:\u001b[0m invalid syntax\n"
     ]
    }
   ],
   "source": []
  },
  {
   "cell_type": "code",
   "execution_count": null,
   "id": "c98fa71b",
   "metadata": {},
   "outputs": [],
   "source": []
  }
 ],
 "metadata": {
  "kernelspec": {
   "display_name": "Python 3",
   "language": "python",
   "name": "python3"
  },
  "language_info": {
   "codemirror_mode": {
    "name": "ipython",
    "version": 3
   },
   "file_extension": ".py",
   "mimetype": "text/x-python",
   "name": "python",
   "nbconvert_exporter": "python",
   "pygments_lexer": "ipython3",
   "version": "3.7.9"
  }
 },
 "nbformat": 4,
 "nbformat_minor": 5
}
