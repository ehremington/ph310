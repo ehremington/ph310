{
 "cells": [
  {
   "cell_type": "code",
   "execution_count": 2,
   "metadata": {},
   "outputs": [],
   "source": [
    "%matplotlib widget"
   ]
  },
  {
   "cell_type": "code",
   "execution_count": 3,
   "metadata": {},
   "outputs": [],
   "source": [
    "import numpy as np\n",
    "import pandas as pd\n",
    "import matplotlib.pyplot as plt"
   ]
  },
  {
   "cell_type": "code",
   "execution_count": 4,
   "metadata": {},
   "outputs": [
    {
     "data": {
      "application/vnd.jupyter.widget-view+json": {
       "model_id": "74d21cfbe3674988aab730d187cba4c9",
       "version_major": 2,
       "version_minor": 0
      },
      "text/plain": [
       "Canvas(toolbar=Toolbar(toolitems=[('Home', 'Reset original view', 'home', 'home'), ('Back', 'Back to previous …"
      ]
     },
     "metadata": {},
     "output_type": "display_data"
    },
    {
     "data": {
      "text/plain": [
       "<AxesSubplot:xlabel='baseballs thrown', ylabel='my speed'>"
      ]
     },
     "execution_count": 4,
     "metadata": {},
     "output_type": "execute_result"
    }
   ],
   "source": [
    "N = 100\n",
    "\n",
    "df = pd.DataFrame()\n",
    "df['backpack'] = np.arange(N,-1,-1)\n",
    "\n",
    "df['mass'] = 75+0.5*df['backpack']\n",
    "\n",
    "df['baseball velocity'] = np.zeros(N+1)\n",
    "\n",
    "df.at[1, 'baseball velocity'] = 15\n",
    "\n",
    "df['my velocity'] = np.zeros(N+1)\n",
    "\n",
    "df.at[1, 'my velocity'] = 7.5/df.at[1,'mass']\n",
    "\n",
    "df['my momentum'] = df['mass']*df['my velocity']\n",
    "\n",
    "for i in df.index[2:]:\n",
    "    df.at[i,'baseball velocity'] = -15 + df.at[i-1, 'my velocity']\n",
    "    df.at[i, 'my velocity'] = (df.at[i-1, 'my momentum'] - df.at[i, 'baseball velocity']*.5)/df.at[i, 'mass']\n",
    "    df['my momentum'] = df['mass']*df['my velocity']\n",
    "\n",
    "df['my velocity'].plot(linestyle='None', marker='o', mfc='None', xlabel='baseballs thrown', ylabel='my speed')"
   ]
  },
  {
   "cell_type": "code",
   "execution_count": 9,
   "metadata": {},
   "outputs": [],
   "source": [
    "df['dv'] = df['my velocity'].diff()"
   ]
  },
  {
   "cell_type": "code",
   "execution_count": 10,
   "metadata": {},
   "outputs": [
    {
     "data": {
      "text/html": [
       "<div>\n",
       "<style scoped>\n",
       "    .dataframe tbody tr th:only-of-type {\n",
       "        vertical-align: middle;\n",
       "    }\n",
       "\n",
       "    .dataframe tbody tr th {\n",
       "        vertical-align: top;\n",
       "    }\n",
       "\n",
       "    .dataframe thead th {\n",
       "        text-align: right;\n",
       "    }\n",
       "</style>\n",
       "<table border=\"1\" class=\"dataframe\">\n",
       "  <thead>\n",
       "    <tr style=\"text-align: right;\">\n",
       "      <th></th>\n",
       "      <th>backpack</th>\n",
       "      <th>mass</th>\n",
       "      <th>baseball velocity</th>\n",
       "      <th>my velocity</th>\n",
       "      <th>my momentum</th>\n",
       "      <th>dv</th>\n",
       "    </tr>\n",
       "  </thead>\n",
       "  <tbody>\n",
       "    <tr>\n",
       "      <th>0</th>\n",
       "      <td>100</td>\n",
       "      <td>125.0</td>\n",
       "      <td>0.000000</td>\n",
       "      <td>0.000000</td>\n",
       "      <td>0.000000</td>\n",
       "      <td>NaN</td>\n",
       "    </tr>\n",
       "    <tr>\n",
       "      <th>1</th>\n",
       "      <td>99</td>\n",
       "      <td>124.5</td>\n",
       "      <td>15.000000</td>\n",
       "      <td>0.060241</td>\n",
       "      <td>7.500000</td>\n",
       "      <td>0.060241</td>\n",
       "    </tr>\n",
       "    <tr>\n",
       "      <th>2</th>\n",
       "      <td>98</td>\n",
       "      <td>124.0</td>\n",
       "      <td>-14.939759</td>\n",
       "      <td>0.120725</td>\n",
       "      <td>14.969880</td>\n",
       "      <td>0.060484</td>\n",
       "    </tr>\n",
       "    <tr>\n",
       "      <th>3</th>\n",
       "      <td>97</td>\n",
       "      <td>123.5</td>\n",
       "      <td>-14.879275</td>\n",
       "      <td>0.181454</td>\n",
       "      <td>22.409517</td>\n",
       "      <td>0.060729</td>\n",
       "    </tr>\n",
       "    <tr>\n",
       "      <th>4</th>\n",
       "      <td>96</td>\n",
       "      <td>123.0</td>\n",
       "      <td>-14.818546</td>\n",
       "      <td>0.242429</td>\n",
       "      <td>29.818790</td>\n",
       "      <td>0.060976</td>\n",
       "    </tr>\n",
       "    <tr>\n",
       "      <th>...</th>\n",
       "      <td>...</td>\n",
       "      <td>...</td>\n",
       "      <td>...</td>\n",
       "      <td>...</td>\n",
       "      <td>...</td>\n",
       "      <td>...</td>\n",
       "    </tr>\n",
       "    <tr>\n",
       "      <th>96</th>\n",
       "      <td>4</td>\n",
       "      <td>77.0</td>\n",
       "      <td>-7.811044</td>\n",
       "      <td>7.286359</td>\n",
       "      <td>561.049623</td>\n",
       "      <td>0.097403</td>\n",
       "    </tr>\n",
       "    <tr>\n",
       "      <th>97</th>\n",
       "      <td>3</td>\n",
       "      <td>76.5</td>\n",
       "      <td>-7.713641</td>\n",
       "      <td>7.384398</td>\n",
       "      <td>564.906443</td>\n",
       "      <td>0.098039</td>\n",
       "    </tr>\n",
       "    <tr>\n",
       "      <th>98</th>\n",
       "      <td>2</td>\n",
       "      <td>76.0</td>\n",
       "      <td>-7.615602</td>\n",
       "      <td>7.483082</td>\n",
       "      <td>568.714244</td>\n",
       "      <td>0.098684</td>\n",
       "    </tr>\n",
       "    <tr>\n",
       "      <th>99</th>\n",
       "      <td>1</td>\n",
       "      <td>75.5</td>\n",
       "      <td>-7.516918</td>\n",
       "      <td>7.582420</td>\n",
       "      <td>572.472703</td>\n",
       "      <td>0.099338</td>\n",
       "    </tr>\n",
       "    <tr>\n",
       "      <th>100</th>\n",
       "      <td>0</td>\n",
       "      <td>75.0</td>\n",
       "      <td>-7.417580</td>\n",
       "      <td>7.682420</td>\n",
       "      <td>576.181493</td>\n",
       "      <td>0.100000</td>\n",
       "    </tr>\n",
       "  </tbody>\n",
       "</table>\n",
       "<p>101 rows × 6 columns</p>\n",
       "</div>"
      ],
      "text/plain": [
       "     backpack   mass  baseball velocity  my velocity  my momentum        dv\n",
       "0         100  125.0           0.000000     0.000000     0.000000       NaN\n",
       "1          99  124.5          15.000000     0.060241     7.500000  0.060241\n",
       "2          98  124.0         -14.939759     0.120725    14.969880  0.060484\n",
       "3          97  123.5         -14.879275     0.181454    22.409517  0.060729\n",
       "4          96  123.0         -14.818546     0.242429    29.818790  0.060976\n",
       "..        ...    ...                ...          ...          ...       ...\n",
       "96          4   77.0          -7.811044     7.286359   561.049623  0.097403\n",
       "97          3   76.5          -7.713641     7.384398   564.906443  0.098039\n",
       "98          2   76.0          -7.615602     7.483082   568.714244  0.098684\n",
       "99          1   75.5          -7.516918     7.582420   572.472703  0.099338\n",
       "100         0   75.0          -7.417580     7.682420   576.181493  0.100000\n",
       "\n",
       "[101 rows x 6 columns]"
      ]
     },
     "execution_count": 10,
     "metadata": {},
     "output_type": "execute_result"
    }
   ],
   "source": [
    "df"
   ]
  },
  {
   "cell_type": "code",
   "execution_count": null,
   "metadata": {},
   "outputs": [],
   "source": []
  }
 ],
 "metadata": {
  "kernelspec": {
   "display_name": "Python 3",
   "language": "python",
   "name": "python3"
  },
  "language_info": {
   "codemirror_mode": {
    "name": "ipython",
    "version": 3
   },
   "file_extension": ".py",
   "mimetype": "text/x-python",
   "name": "python",
   "nbconvert_exporter": "python",
   "pygments_lexer": "ipython3",
   "version": "3.7.9"
  }
 },
 "nbformat": 4,
 "nbformat_minor": 4
}
