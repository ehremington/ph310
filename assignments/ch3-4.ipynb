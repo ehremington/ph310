{
 "cells": [
  {
   "cell_type": "markdown",
   "id": "a55e8b3b-faea-4352-9234-d436c90e3c11",
   "metadata": {},
   "source": [
    "# Chapter 3 Problem Set 4\n",
    "\n",
    "## Problem 1\n",
    "A system consists of three objects with mass, *m1 = m2* and *m3 = 10 m1*. *m1* is located at the coordinates of (0, 0, 0), *m2* is at (1, 1, 0) and *m3* is at (1, -1, -1). What is the center of mass of this system?\n",
    "\n",
    "## Problem 2\n",
    "For the three objects in the above system, their respective velocities are \\(v_1 = (-1, 1, 0)\\), \\(v_2 = (-1, 0, 1)\\), and \\(v_3 = (0, 0, 0)\\).\n",
    "\n",
    "1. What are their individual momenta?\n",
    "2. What is the momentum of the system as a whole?\n",
    "3. What is the velocity of the center of mass? \n",
    "4. What is the momentum of the center of mass?\n",
    "5. What is the angular momentum of each object?\n",
    "6. What is the angular momentum of the system as a whole?\n",
    "\n",
    "## Problem 3\n",
    "Where are the particles after 1 second has gone by? Have any of the quantites of Problem 2 changed?\n",
    "\n",
    "## Problem 4\n",
    "With respect to the center of mass reference frame, what is the velocity of each of objects?\n",
    "\n",
    "## Problem 5 \n",
    "With respect to the center of mass reference frame, what is the angular momentum of the system?\n",
    "\n",
    "## Problem 6\n",
    "Do any of these objects collide? How can you tell?"
   ]
  },
  {
   "cell_type": "code",
   "execution_count": null,
   "id": "0e779376-d4b4-483e-931a-bbafeda6d0fe",
   "metadata": {},
   "outputs": [],
   "source": []
  }
 ],
 "metadata": {
  "kernelspec": {
   "display_name": "Python 3",
   "language": "python",
   "name": "python3"
  },
  "language_info": {
   "codemirror_mode": {
    "name": "ipython",
    "version": 3
   },
   "file_extension": ".py",
   "mimetype": "text/x-python",
   "name": "python",
   "nbconvert_exporter": "python",
   "pygments_lexer": "ipython3",
   "version": "3.7.9"
  }
 },
 "nbformat": 4,
 "nbformat_minor": 5
}
