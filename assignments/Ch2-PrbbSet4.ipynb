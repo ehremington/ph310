{
 "cells": [
  {
   "cell_type": "markdown",
   "id": "logical-yeast",
   "metadata": {},
   "source": [
    "# Chapter 2 - Problem Set 4\n",
    "\n",
    "## Problem 1\n",
    "Use Euler's Method of solving a numerical differential equations to solve for the motion of a projectile under conditions of quadratic drag through air at STP. The equations of motion are:\n",
    "$$\\ddot{x} = -\\dfrac{c}{m} \\sqrt{\\dot{x}^2+\\dot{y}^2} \\dot{x} $$\n",
    "$$\\ddot{y} = -\\dfrac{c}{m} \\sqrt{\\dot{x}^2+\\dot{y}^2} \\dot{y} + g  $$\n",
    "\n",
    "Use the initial condition of a 5cm radius sphere ($\\kappa=1/4$) going an intial velocity of 100m/s at an initial angle of 60$^o$ above the horizontal. Other helpful information is that the density of air at STP is $\\rho_{fl}=1.29\\mathrm{kg/m^3}$.  \n",
    "\n",
    "Find when the ball hits the ground and how far horizontally it has gone (aka the range) and compare this to how far it would have gone horizontally in vacuum.\n",
    "\n",
    "## Problem 2\n",
    "What is the terminal speed of the ball in the previous question?\n",
    "\n",
    "# Extra problems that I'm thinking about but not part of this assignment formally\n",
    "\n",
    "## Extra 1\n",
    "If I drop a marble off the top of the Empire State building how fast is it going when it hits the ground? What if it was a tennis ball? Look up some values for these objects.\n",
    "\n",
    "## Extra 2\n",
    "Problem 2.39 from the book, but basically how do you handle having a constant frictional force put into the horizontal equation of motion with either linear or quadratic drag.\n",
    "\n",
    "## Extra 3\n",
    "Use the definitions of $\\cosh$ and $\\sinh$ to prove $\\cosh^2(\\theta)-\\sinh^2(\\theta) = 1$\n"
   ]
  }
 ],
 "metadata": {
  "kernelspec": {
   "display_name": "Python 3",
   "language": "python",
   "name": "python3"
  },
  "language_info": {
   "codemirror_mode": {
    "name": "ipython",
    "version": 3
   },
   "file_extension": ".py",
   "mimetype": "text/x-python",
   "name": "python",
   "nbconvert_exporter": "python",
   "pygments_lexer": "ipython3",
   "version": "3.7.9"
  }
 },
 "nbformat": 4,
 "nbformat_minor": 5
}
