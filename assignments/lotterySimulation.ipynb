{
 "cells": [
  {
   "cell_type": "code",
   "execution_count": 1,
   "id": "08203310-ee5d-4324-a4b1-c0a54190ee43",
   "metadata": {},
   "outputs": [],
   "source": [
    "import numpy as np\n",
    "import pandas as pd\n",
    "import matplotlib.pyplot as plt"
   ]
  },
  {
   "cell_type": "code",
   "execution_count": null,
   "id": "0d9ad2a9-c98b-44c3-8104-8b77d6bd08f3",
   "metadata": {},
   "outputs": [],
   "source": []
  },
  {
   "cell_type": "code",
   "execution_count": 2,
   "id": "b7ebc674-ab29-4062-8fa8-111715844248",
   "metadata": {},
   "outputs": [],
   "source": [
    "ticketPrice = 2\n",
    "ticketsSold = 2000000\n",
    "numberRange = 100000000\n",
    "pot = 0\n",
    "week = 0\n",
    "winner = False"
   ]
  },
  {
   "cell_type": "code",
   "execution_count": 3,
   "id": "02392e7a-2915-4b53-a93b-b5c59b6f1a9e",
   "metadata": {},
   "outputs": [
    {
     "name": "stdout",
     "output_type": "stream",
     "text": [
      "week 1:4000000\n",
      "week 2:8000000\n",
      "week 3:12000000\n",
      "week 4:16000000\n",
      "week 5:20000000\n",
      "week 6:24000000\n",
      "week 7:28000000\n",
      "week 8:32000000\n",
      "week 9:36000000\n",
      "week 10:40000000\n",
      "week 11:44000000\n",
      "week 12:48000000\n",
      "week 13:52000000\n",
      "week 14:56000000\n",
      "week 15:60000000\n",
      "week 16:64000000\n"
     ]
    }
   ],
   "source": [
    "while winner == False:\n",
    "\n",
    "    dailytickets = np.random.randint(0,numberRange,ticketsSold)\n",
    "\n",
    "    todaysNumber = np.random.randint(0,numberRange,1)\n",
    "\n",
    "    pot = pot + ticketsSold*ticketPrice \n",
    "\n",
    "    week = week + 1\n",
    "\n",
    "    print('week '+ str(week) + \":\" + str(pot)) \n",
    "\n",
    "    if todaysNumber in dailytickets:\n",
    "        winner = True"
   ]
  },
  {
   "cell_type": "code",
   "execution_count": 4,
   "id": "c9c261e3-24a6-4c1d-8e1e-d0d7dd011532",
   "metadata": {},
   "outputs": [
    {
     "data": {
      "text/plain": [
       "87.71374134140437"
      ]
     },
     "execution_count": 4,
     "metadata": {},
     "output_type": "execute_result"
    }
   ],
   "source": [
    "t = 0\n",
    "for n in range(1000):\n",
    "    t += (4999/5000)**(n)/5000*(n+1)\n",
    "    \n",
    "t"
   ]
  },
  {
   "cell_type": "code",
   "execution_count": 8,
   "id": "a8c123c6-6c1f-41d9-bc6f-1c6f3aba6835",
   "metadata": {},
   "outputs": [
    {
     "data": {
      "text/plain": [
       "array([  9.,  34.,  49.,   9.,  92.,  97.,   3.,  54., 115.,  79.,  40.,\n",
       "         2.,   9.,  32.,  57.,   1.,  62.,  13.,  27.,  39.,  30.,  30.,\n",
       "        19.,  20.,   2.,  60.,  26., 125.,  85., 103.,  63.,  83.,   7.,\n",
       "        22.,  11.,  51.,   3.,   6.,  36.,  39., 142.,   3.,  15.,  59.,\n",
       "        24.,  79.,  76.,   6.,   5.,  51.,  41., 115., 114.,  14.,  39.,\n",
       "        57.,  23.,  33.,  26.,  12.,  36.,  23.,  60.,  17.,  16.,  58.,\n",
       "        55., 106.,  85.,  49., 120.,  51.,  36., 127.,   3.,  58.,  13.,\n",
       "         9.,  45.,  28.,  40.,   7.,  18., 133.,  10.,  56., 114.,  71.,\n",
       "        31.,  20.,  10.,  21.,  27., 162.,  71.,  45.,  26.,  27.,  43.,\n",
       "        54.])"
      ]
     },
     "execution_count": 8,
     "metadata": {},
     "output_type": "execute_result"
    }
   ],
   "source": [
    "runs = 100\n",
    "a = np.zeros(runs)\n",
    "\n",
    "for i in range(runs):\n",
    "    winner = False\n",
    "    week = 0\n",
    "    \n",
    "    while winner == False:\n",
    "\n",
    "        dailytickets = np.random.randint(0,numberRange,ticketsSold)\n",
    "\n",
    "        todaysNumber = np.random.randint(0,numberRange,1)\n",
    "\n",
    "        pot = pot + ticketsSold*ticketPrice \n",
    "\n",
    "        week = week + 1\n",
    "\n",
    "        # print('week '+ str(week) + \":\" + str(pot)) \n",
    "\n",
    "        if todaysNumber in dailytickets:\n",
    "            winner = True\n",
    "    a[i] = week\n",
    "    \n",
    "a"
   ]
  },
  {
   "cell_type": "code",
   "execution_count": 9,
   "id": "62e008f9-05b4-4b8e-b7ec-964c5ebb62c8",
   "metadata": {},
   "outputs": [
    {
     "data": {
      "text/plain": [
       "45.59"
      ]
     },
     "execution_count": 9,
     "metadata": {},
     "output_type": "execute_result"
    }
   ],
   "source": [
    "a.mean()"
   ]
  },
  {
   "cell_type": "code",
   "execution_count": null,
   "id": "66ca7dd7-1161-45b4-9b22-9d63356d7317",
   "metadata": {},
   "outputs": [],
   "source": []
  }
 ],
 "metadata": {
  "kernelspec": {
   "display_name": "Python 3",
   "language": "python",
   "name": "python3"
  },
  "language_info": {
   "codemirror_mode": {
    "name": "ipython",
    "version": 3
   },
   "file_extension": ".py",
   "mimetype": "text/x-python",
   "name": "python",
   "nbconvert_exporter": "python",
   "pygments_lexer": "ipython3",
   "version": "3.7.9"
  }
 },
 "nbformat": 4,
 "nbformat_minor": 5
}
