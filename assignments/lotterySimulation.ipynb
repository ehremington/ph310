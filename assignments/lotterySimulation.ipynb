{
 "cells": [
  {
   "cell_type": "code",
   "execution_count": 31,
   "id": "08203310-ee5d-4324-a4b1-c0a54190ee43",
   "metadata": {},
   "outputs": [],
   "source": [
    "import numpy as np\n",
    "import pandas as pd\n",
    "import matplotlib.pyplot as plt"
   ]
  },
  {
   "cell_type": "code",
   "execution_count": 32,
   "id": "b7ebc674-ab29-4062-8fa8-111715844248",
   "metadata": {},
   "outputs": [],
   "source": [
    "ticketPrice = 2\n",
    "ticketsSold = 2000000\n",
    "numberRange = 100000000\n",
    "pot = 0\n",
    "week = 0\n",
    "winner = False"
   ]
  },
  {
   "cell_type": "code",
   "execution_count": 33,
   "id": "02392e7a-2915-4b53-a93b-b5c59b6f1a9e",
   "metadata": {},
   "outputs": [
    {
     "name": "stdout",
     "output_type": "stream",
     "text": [
      "week 1:4000000\n",
      "week 2:8000000\n",
      "week 3:12000000\n",
      "week 4:16000000\n",
      "week 5:20000000\n",
      "week 6:24000000\n",
      "week 7:28000000\n",
      "week 8:32000000\n",
      "week 9:36000000\n",
      "week 10:40000000\n",
      "week 11:44000000\n",
      "week 12:48000000\n",
      "week 13:52000000\n",
      "week 14:56000000\n",
      "week 15:60000000\n",
      "week 16:64000000\n",
      "week 17:68000000\n",
      "week 18:72000000\n",
      "week 19:76000000\n",
      "week 20:80000000\n",
      "week 21:84000000\n",
      "week 22:88000000\n",
      "week 23:92000000\n",
      "week 24:96000000\n",
      "week 25:100000000\n",
      "week 26:104000000\n"
     ]
    }
   ],
   "source": [
    "while winner == False:\n",
    "\n",
    "    dailytickets = np.random.randint(0,numberRange,ticketsSold)\n",
    "\n",
    "    todaysNumber = np.random.randint(0,numberRange,1)\n",
    "\n",
    "    pot = pot + ticketsSold*ticketPrice \n",
    "\n",
    "    week = week + 1\n",
    "\n",
    "    print('week '+ str(week) + \":\" + str(pot)) \n",
    "\n",
    "    if todaysNumber in dailytickets:\n",
    "        winner = True"
   ]
  },
  {
   "cell_type": "code",
   "execution_count": 34,
   "id": "c9c261e3-24a6-4c1d-8e1e-d0d7dd011532",
   "metadata": {},
   "outputs": [
    {
     "data": {
      "text/plain": [
       "87.71374134140437"
      ]
     },
     "execution_count": 34,
     "metadata": {},
     "output_type": "execute_result"
    }
   ],
   "source": [
    "t = 0\n",
    "for n in range(1000):\n",
    "    t += (4999/5000)**(n)/5000*(n+1)\n",
    "    \n",
    "t"
   ]
  },
  {
   "cell_type": "code",
   "execution_count": null,
   "id": "a8c123c6-6c1f-41d9-bc6f-1c6f3aba6835",
   "metadata": {},
   "outputs": [],
   "source": []
  }
 ],
 "metadata": {
  "kernelspec": {
   "display_name": "Python 3",
   "language": "python",
   "name": "python3"
  },
  "language_info": {
   "codemirror_mode": {
    "name": "ipython",
    "version": 3
   },
   "file_extension": ".py",
   "mimetype": "text/x-python",
   "name": "python",
   "nbconvert_exporter": "python",
   "pygments_lexer": "ipython3",
   "version": "3.7.9"
  }
 },
 "nbformat": 4,
 "nbformat_minor": 5
}
