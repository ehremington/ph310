{
 "cells": [
  {
   "cell_type": "code",
   "execution_count": 1,
   "id": "italian-shannon",
   "metadata": {},
   "outputs": [],
   "source": [
    "%matplotlib widget"
   ]
  },
  {
   "cell_type": "code",
   "execution_count": 2,
   "id": "controlled-opening",
   "metadata": {},
   "outputs": [],
   "source": [
    "import numpy as np\n",
    "import pandas as pd\n",
    "import matplotlib.pyplot as plt"
   ]
  },
  {
   "cell_type": "code",
   "execution_count": 3,
   "id": "literary-balloon",
   "metadata": {},
   "outputs": [],
   "source": [
    "labels = ['t', 'x', 'y', 'xd','yd', 'xdd', 'ydd']\n",
    "\n",
    "vi = 300\n",
    "th = np.pi/3\n",
    "r = 0.15\n",
    "density = 7.8*10**3 #kg/m^3\n",
    "m = density*4/3*np.pi*r**3\n",
    "\n",
    "cm = 1/4*1.29*np.pi*r**2/m\n",
    "tf = 100\n",
    "dt = 0.1\n",
    "\n",
    "def v(vx,vy):\n",
    "    return np.sqrt(vx**2+vy**2)\n",
    "\n",
    "def ax(vx, vy):\n",
    "    return -cm*v(vx,vy)*vx\n",
    "\n",
    "def ay(vx, vy):\n",
    "    return -cm*v(vx,vy)*vy - 9.8\n",
    "\n",
    "# set initial conditions\n",
    "t = 0\n",
    "x = 0\n",
    "y = 0\n",
    "xd = vi*np.cos(th)\n",
    "yd = vi*np.sin(th)\n",
    "xdd = ax(xd, yd)\n",
    "ydd = ay(xd, yd)\n",
    "\n",
    "# set lists to collect data\n",
    "tlist = np.arange(0,tf,dt)\n",
    "xlist = [x]\n",
    "ylist = [y]\n",
    "vxlist = [xd]\n",
    "vylist = [yd]\n",
    "axlist = [xdd]\n",
    "aylist = [ydd]"
   ]
  },
  {
   "cell_type": "code",
   "execution_count": 4,
   "id": "particular-lounge",
   "metadata": {},
   "outputs": [],
   "source": [
    "for i in tlist[1:]:   # exclude the initial conditions\n",
    "    ydd = ay(xd, yd)\n",
    "    xdd  = ax(xd, yd)\n",
    "    \n",
    "    xd = xd + xdd*dt\n",
    "    yd = yd + ydd*dt\n",
    "    \n",
    "    x = x + xd*dt\n",
    "    y = y + yd*dt\n",
    "    \n",
    "    axlist.append(xdd)\n",
    "    aylist.append(ydd)\n",
    "    vxlist.append(xd)\n",
    "    vylist.append(yd)\n",
    "    xlist.append(x)\n",
    "    ylist.append(y)"
   ]
  },
  {
   "cell_type": "code",
   "execution_count": 5,
   "id": "handmade-cleaner",
   "metadata": {},
   "outputs": [
    {
     "data": {
      "application/vnd.jupyter.widget-view+json": {
       "model_id": "f1a7221bb03d41a88f597791fd3b6d47",
       "version_major": 2,
       "version_minor": 0
      },
      "text/plain": [
       "Canvas(toolbar=Toolbar(toolitems=[('Home', 'Reset original view', 'home', 'home'), ('Back', 'Back to previous …"
      ]
     },
     "metadata": {},
     "output_type": "display_data"
    }
   ],
   "source": [
    "fig,ax = plt.subplots()\n",
    "ax.plot(xlist,ylist, '.') \n",
    "#ax.set_xlim(0,100)\n",
    "ax.set_ylim(0)\n",
    "ax.set_aspect('equal')"
   ]
  },
  {
   "cell_type": "code",
   "execution_count": null,
   "id": "noted-prospect",
   "metadata": {},
   "outputs": [],
   "source": []
  }
 ],
 "metadata": {
  "kernelspec": {
   "display_name": "Python 3",
   "language": "python",
   "name": "python3"
  },
  "language_info": {
   "codemirror_mode": {
    "name": "ipython",
    "version": 3
   },
   "file_extension": ".py",
   "mimetype": "text/x-python",
   "name": "python",
   "nbconvert_exporter": "python",
   "pygments_lexer": "ipython3",
   "version": "3.6.13"
  }
 },
 "nbformat": 4,
 "nbformat_minor": 5
}
