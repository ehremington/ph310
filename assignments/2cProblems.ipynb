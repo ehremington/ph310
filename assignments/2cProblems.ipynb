{
 "cells": [
  {
   "cell_type": "markdown",
   "id": "specified-raising",
   "metadata": {
    "tags": []
   },
   "source": [
    "# 2C Mechanics Assignment\n",
    "\n",
    "### Problem 1\n",
    "In class we ended with a couple of expressions that were to help us integrate\n",
    "\n",
    "$$\\int\\frac{dv}{1+v^2/v_t^2}$$\n",
    "\n",
    "They were \n",
    "\n",
    "* \\\\( \\tanh(u)=\\frac{v}{v_t}\\\\)\n",
    "* \\\\(\\dfrac{d\\tanh(u)}{du} = \\mathrm{sech}^2(u)\\\\)\n",
    "* $\\tanh^2(u)+\\mathrm{sech}^2(u)=1$\n",
    "\n",
    "Use these formula to evaluate the integral above by substitution.\n",
    "\n",
    "### Problem 2\n",
    "Use Euler's expression ($e^{i\\theta} = \\cos(\\theta)+i \\sin(\\theta)$) to show:\n",
    "* $\\sin(\\theta)=\\dfrac{e^{i \\theta}-e^{-i \\theta}}{2i}$\n",
    "* $\\cos(\\theta)=\\dfrac{e^{i \\theta}+e^{-i \\theta}}{2}$\n",
    "\n",
    "(*Hint: How would you simplify $\\cos(-\\theta)$ and $\\sin(-\\theta)$?*"
   ]
  },
  {
   "cell_type": "markdown",
   "id": "cloudy-brake",
   "metadata": {},
   "source": [
    "notes about MathJax changes before I forget:\n",
    "\n",
    "somewhat combined methods from these two sources:\n",
    "https://newbedev.com/how-do-i-configure-mathjax-for-ipython-notebooks\n",
    "https://stackoverflow.com/questions/28909747/how-do-i-configure-mathjax-for-ipython-notebooks\n",
    "\n",
    "1. Downloaded MathJax 2.7.5 and unzipped in '~/Downloads'\n",
    "2. replaced the folder `~/miniconda3/pkgs/notebook-6.1.1-py37_0/lib/python3.7/site-packages/notebook/static/components/MathJax/jax` and `~/miniconda3/pkgs/notebook-6.1.1-py37_0/lib/python3.7/site-packages/notebook/static/components/MathJax/fonts` with their corresponding version in the newly downloaded version.\n",
    "3. edited `~/miniconda3/pkgs/notebook-6.1.1-py37_0/lib/python3.7/site-packages/notebook/static/notebook/js/main.min.js`\n",
    "    * first to test font changes I searched for 'availableFonts' and replaced 'preferedFont' and 'webFont' to 'TeX'\n",
    "    * then searched for 'window.MathJax' and found a place in the code similar to the site below. I changed the delimiter for inline equation to a single slash and paren from a \n",
    "        * https://docs.mathjax.org/en/latest/input/tex/delimiters.html\n",
    "    * did the same edits to 'mathjaxutils.js' in the same directory\n",
    "4. ok i must have broken something because I caused jupyter notebook to no longer load a page. oops\n",
    "5. i fixed that with an update of jupyter notebook. this sent me to version 6.4.3 from 6.1 or something like that\n",
    "6. now i didn't bother replacing the mathjax version\n",
    "7. this time i went back to `~/miniconda3/pkgs/notebook-6.4.3-py37h06a4308_0/lib/python3.7/site-packages/notebook/static/notebook/js`. `mathjaxutils.js` was a completely different almost empty file so i left it alone.  `main.min.js` looked similar so i again searched for `window.MathJax` (i left the fonts alone). i replaced the delimiters with a single slash from double slashes (both inline and display math).\n",
    "8. saved restarted jupyter notebook and this totally works.\n",
    "9. but does not work in jupyter lab!\n",
    "10. in looking for how to do this i found this file at `~/miniconda3/pkgs/notebook-6.4.3-py37h06a4308_0/lib/python3.7/site-packages/notebook/static/components/MathJax/config/TeX-AMS-MML_HTMLorMML-full.js`. I searched inlineMath and found one place where I could eliminate the double slashes from inline and display. \n",
    "11. but it didn't work.\n",
    "12. ugh now its not working so i'm trying to undo everything\n",
    "\n"
   ]
  },
  {
   "cell_type": "code",
   "execution_count": null,
   "id": "virgin-success",
   "metadata": {},
   "outputs": [],
   "source": []
  }
 ],
 "metadata": {
  "kernelspec": {
   "display_name": "Python 3",
   "language": "python",
   "name": "python3"
  },
  "language_info": {
   "codemirror_mode": {
    "name": "ipython",
    "version": 3
   },
   "file_extension": ".py",
   "mimetype": "text/x-python",
   "name": "python",
   "nbconvert_exporter": "python",
   "pygments_lexer": "ipython3",
   "version": "3.6.13"
  }
 },
 "nbformat": 4,
 "nbformat_minor": 5
}
