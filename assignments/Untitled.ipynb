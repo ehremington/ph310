{
 "cells": [
  {
   "cell_type": "code",
   "execution_count": null,
   "id": "49cc997a-f907-4b1c-924a-1abd9452c1a5",
   "metadata": {},
   "outputs": [],
   "source": []
  }
 ],
 "metadata": {
  "kernelspec": {
   "display_name": "",
   "name": ""
  },
  "language_info": {
   "name": ""
  }
 },
 "nbformat": 4,
 "nbformat_minor": 5
}
