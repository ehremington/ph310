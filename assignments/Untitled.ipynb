{
 "cells": [
  {
   "cell_type": "markdown",
   "id": "938ccd04-903a-45fb-882c-bd3309c30ba8",
   "metadata": {},
   "source": [
    "## Python differential equation solver\n",
    "\n",
    "Runga-Kutta method"
   ]
  },
  {
   "cell_type": "code",
   "execution_count": 1,
   "id": "49e6e52e-a18b-4444-aaaa-200f0d756304",
   "metadata": {},
   "outputs": [],
   "source": [
    "import numpy as np\n",
    "import pandas as pd\n",
    "import matplotlib.pyplot as plt"
   ]
  },
  {
   "cell_type": "code",
   "execution_count": null,
   "id": "edf0b27e-54dc-4f8f-8184-b532f678e3c7",
   "metadata": {},
   "outputs": [],
   "source": []
  }
 ],
 "metadata": {
  "kernelspec": {
   "display_name": "Python 3",
   "language": "python",
   "name": "python3"
  },
  "language_info": {
   "codemirror_mode": {
    "name": "ipython",
    "version": 3
   },
   "file_extension": ".py",
   "mimetype": "text/x-python",
   "name": "python",
   "nbconvert_exporter": "python",
   "pygments_lexer": "ipython3",
   "version": "3.7.9"
  }
 },
 "nbformat": 4,
 "nbformat_minor": 5
}
