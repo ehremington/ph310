{
 "cells": [
  {
   "cell_type": "markdown",
   "id": "f5537250",
   "metadata": {},
   "source": [
    "# Mechanics Assignment\n",
    "\n",
    "### Problem 1\n",
    "This is a test.\n",
    "\n",
    "$F=ma$\n",
    "\n",
    "### Problem 2\n",
    "\n"
   ]
  }
 ],
 "metadata": {
  "kernelspec": {
   "display_name": "Python 3",
   "language": "python",
   "name": "python3"
  },
  "language_info": {
   "codemirror_mode": {
    "name": "ipython",
    "version": 3
   },
   "file_extension": ".py",
   "mimetype": "text/x-python",
   "name": "python",
   "nbconvert_exporter": "python",
   "pygments_lexer": "ipython3",
   "version": "3.7.9"
  }
 },
 "nbformat": 4,
 "nbformat_minor": 5
}
