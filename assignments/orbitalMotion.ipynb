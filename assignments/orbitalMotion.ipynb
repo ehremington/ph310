{
 "cells": [
  {
   "cell_type": "code",
   "execution_count": 124,
   "id": "5e4134b4",
   "metadata": {},
   "outputs": [],
   "source": [
    "%matplotlib widget"
   ]
  },
  {
   "cell_type": "code",
   "execution_count": 125,
   "id": "c771bd0d",
   "metadata": {},
   "outputs": [],
   "source": [
    "import numpy as np\n",
    "import pandas as pd\n",
    "import matplotlib.pyplot as plt"
   ]
  },
  {
   "cell_type": "code",
   "execution_count": 245,
   "id": "da7ea2f8",
   "metadata": {},
   "outputs": [],
   "source": [
    "dt = .001\n",
    "tf = 10\n",
    "t = np.arange(0, tf, dt)\n",
    "\n",
    "m1 = 1\n",
    "m2 = 1000\n",
    "G = .001\n",
    "\n",
    "r10 = np.array([1, 0])\n",
    "r20 = np.array([0, 0])\n",
    "\n",
    "v10 = np.array([0,.7])\n",
    "v20 = np.array([0,0])\n",
    "\n",
    "r1 = [r10]\n",
    "r2 = [r20]\n",
    "\n",
    "v1 = [v10]\n",
    "v2 = [v20]\n",
    "\n",
    "def f(r):\n",
    "    return -G*m1*m2/np.sum(np.abs(r**3))*r\n",
    "\n",
    "def acc(f, m):\n",
    "    return f/m\n",
    "\n",
    "def vel(v, a):\n",
    "    return v + a*dt\n",
    "\n",
    "def pos(r, v):\n",
    "    return r + v*dt\n",
    "\n",
    "r1t = r1[-1]\n",
    "r2t = r2[-1]\n",
    "v1t = v1[-1]\n",
    "v2t = v2[-1]"
   ]
  },
  {
   "cell_type": "code",
   "execution_count": 246,
   "id": "37db6ffb",
   "metadata": {},
   "outputs": [],
   "source": [
    "for i in t:\n",
    "    f1t = f(r1t-r2t)\n",
    "    f2t = -f1t\n",
    "    a1t = acc(f1t, m1)\n",
    "    a2t = acc(f2t, m2)\n",
    "    v1t = vel(v1t, a1t)\n",
    "    v2t = vel(v2t, a2t)\n",
    "    r1t = pos(r1t, v1t)\n",
    "    r2t = pos(r2t, v2t)\n",
    "    r1.append(r1t)\n",
    "    r2.append(r2t)\n",
    "    v1.append(v1t)\n",
    "    v2.append(v2t)"
   ]
  },
  {
   "cell_type": "code",
   "execution_count": 247,
   "id": "d9c53048",
   "metadata": {},
   "outputs": [
    {
     "data": {
      "application/vnd.jupyter.widget-view+json": {
       "model_id": "5dfbb6d3720d4a6ba29884a590fac676",
       "version_major": 2,
       "version_minor": 0
      },
      "text/plain": [
       "Canvas(toolbar=Toolbar(toolitems=[('Home', 'Reset original view', 'home', 'home'), ('Back', 'Back to previous …"
      ]
     },
     "metadata": {},
     "output_type": "display_data"
    },
    {
     "data": {
      "text/plain": [
       "<matplotlib.legend.Legend at 0x7f975874cfd0>"
      ]
     },
     "execution_count": 247,
     "metadata": {},
     "output_type": "execute_result"
    }
   ],
   "source": [
    "fig, ax = plt.subplots()\n",
    "ax.scatter(*zip(*r1), marker='.', label=\"m1\",)\n",
    "ax.scatter(*zip(*r2), label=\"m2\")\n",
    "#ax.set_xlim(-5,5)\n",
    "#ax.set_ylim(-5,5)\n",
    "ax.legend()"
   ]
  },
  {
   "cell_type": "code",
   "execution_count": 241,
   "id": "c0c48b7a",
   "metadata": {},
   "outputs": [],
   "source": [
    "plt.close('all')"
   ]
  },
  {
   "cell_type": "code",
   "execution_count": 98,
   "id": "57192204",
   "metadata": {},
   "outputs": [
    {
     "data": {
      "text/plain": [
       "array([-649.94459263,  163.80037175])"
      ]
     },
     "execution_count": 98,
     "metadata": {},
     "output_type": "execute_result"
    }
   ],
   "source": [
    "r1t"
   ]
  },
  {
   "cell_type": "code",
   "execution_count": 101,
   "id": "e3bfc7d5",
   "metadata": {},
   "outputs": [
    {
     "data": {
      "text/plain": [
       "array([0.06509446, 0.00361996])"
      ]
     },
     "execution_count": 101,
     "metadata": {},
     "output_type": "execute_result"
    }
   ],
   "source": [
    "r2t"
   ]
  },
  {
   "cell_type": "code",
   "execution_count": 102,
   "id": "be7bb469",
   "metadata": {},
   "outputs": [
    {
     "data": {
      "text/plain": [
       "array([-650.00968709,  163.79675179])"
      ]
     },
     "execution_count": 102,
     "metadata": {},
     "output_type": "execute_result"
    }
   ],
   "source": [
    "r1t-r2t"
   ]
  }
 ],
 "metadata": {
  "kernelspec": {
   "display_name": "Python 3",
   "language": "python",
   "name": "python3"
  },
  "language_info": {
   "codemirror_mode": {
    "name": "ipython",
    "version": 3
   },
   "file_extension": ".py",
   "mimetype": "text/x-python",
   "name": "python",
   "nbconvert_exporter": "python",
   "pygments_lexer": "ipython3",
   "version": "3.7.9"
  }
 },
 "nbformat": 4,
 "nbformat_minor": 5
}
