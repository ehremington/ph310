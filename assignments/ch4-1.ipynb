{
 "cells": [
  {
   "cell_type": "markdown",
   "id": "fb3fef8d-9be9-4c60-9670-3a2695e7187d",
   "metadata": {},
   "source": [
    "## Chapter 4 - Problem Set 1\n",
    "\n",
    "## Problem 1\n",
    "\n",
    "In class we used three different paths to find the work done by a constant force along those paths to go from (0,0) to (1,1) in the x-y plane. Use the same 3 paths (see the notes) to find the work done along those paths for the force defined by \n",
    "\n",
    "$$ \\vec{F} = y\\hat{x} + 2 x \\hat{y} $$\n",
    "\n",
    "## Problem 2\n",
    "\n",
    "Use Mathematica to plot the vector field in the problem above. The function you want to use is \n",
    "\n",
    "`VectorPlot[{y, 2 x}, {x, -1, 1}, {y, -1, 1}]`\n",
    "\n",
    "Next, do another vector plot for some other force field that you come up with. Here are some other options for what to enter in the field part of the plotting function above: `{1,2}`, `{y-x, y+x}`. Come up with one of your own.\n",
    "\n",
    "## Bonus (not really)\n",
    "\n",
    "Find the curl of the two dimensional force fields we've done here using Mathematica."
   ]
  }
 ],
 "metadata": {
  "kernelspec": {
   "display_name": "Python 3",
   "language": "python",
   "name": "python3"
  },
  "language_info": {
   "codemirror_mode": {
    "name": "ipython",
    "version": 3
   },
   "file_extension": ".py",
   "mimetype": "text/x-python",
   "name": "python",
   "nbconvert_exporter": "python",
   "pygments_lexer": "ipython3",
   "version": "3.7.9"
  }
 },
 "nbformat": 4,
 "nbformat_minor": 5
}
